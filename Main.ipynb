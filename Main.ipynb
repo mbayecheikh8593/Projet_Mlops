{
 "cells": [
  {
   "cell_type": "code",
   "execution_count": 58,
   "id": "951cd795",
   "metadata": {},
   "outputs": [
    {
     "name": "stderr",
     "output_type": "stream",
     "text": [
      "[NbConvertApp] Converting notebook Preprocessing.ipynb to script\n",
      "[NbConvertApp] Writing 471 bytes to Preprocessing.py\n",
      "[NbConvertApp] Converting notebook Visualization.ipynb to script\n",
      "[NbConvertApp] Writing 1379 bytes to Visualization.py\n",
      "[NbConvertApp] Converting notebook Model.ipynb to script\n",
      "[NbConvertApp] Writing 2313 bytes to Model.py\n"
     ]
    }
   ],
   "source": [
    "!jupyter nbconvert --to script Preprocessing.ipynb\n",
    "!jupyter nbconvert --to script Visualization.ipynb\n",
    "!jupyter nbconvert --to script Model.ipynb"
   ]
  },
  {
   "cell_type": "markdown",
   "id": "a02a37f8",
   "metadata": {},
   "source": [
    "## Importer les données  "
   ]
  },
  {
   "cell_type": "code",
   "execution_count": 59,
   "id": "6d9565a0",
   "metadata": {},
   "outputs": [
    {
     "data": {
      "text/html": [
       "<div>\n",
       "<style scoped>\n",
       "    .dataframe tbody tr th:only-of-type {\n",
       "        vertical-align: middle;\n",
       "    }\n",
       "\n",
       "    .dataframe tbody tr th {\n",
       "        vertical-align: top;\n",
       "    }\n",
       "\n",
       "    .dataframe thead th {\n",
       "        text-align: right;\n",
       "    }\n",
       "</style>\n",
       "<table border=\"1\" class=\"dataframe\">\n",
       "  <thead>\n",
       "    <tr style=\"text-align: right;\">\n",
       "      <th></th>\n",
       "      <th>Column1</th>\n",
       "      <th>label</th>\n",
       "      <th>text</th>\n",
       "      <th>label_num</th>\n",
       "      <th>cleaned_text</th>\n",
       "    </tr>\n",
       "  </thead>\n",
       "  <tbody>\n",
       "    <tr>\n",
       "      <th>0</th>\n",
       "      <td>605</td>\n",
       "      <td>ham</td>\n",
       "      <td>Subject: enron methanol ; meter # : 988291\\r\\n...</td>\n",
       "      <td>0</td>\n",
       "      <td>enron methanol meter follow note gave monday p...</td>\n",
       "    </tr>\n",
       "    <tr>\n",
       "      <th>1</th>\n",
       "      <td>2349</td>\n",
       "      <td>ham</td>\n",
       "      <td>Subject: hpl nom for january 9 , 2001\\r\\n( see...</td>\n",
       "      <td>0</td>\n",
       "      <td>hpl nom january see attached file hplnol xls h...</td>\n",
       "    </tr>\n",
       "    <tr>\n",
       "      <th>2</th>\n",
       "      <td>3624</td>\n",
       "      <td>ham</td>\n",
       "      <td>Subject: neon retreat\\r\\nho ho ho , we ' re ar...</td>\n",
       "      <td>0</td>\n",
       "      <td>neon retreat ho ho ho around wonderful time ye...</td>\n",
       "    </tr>\n",
       "    <tr>\n",
       "      <th>3</th>\n",
       "      <td>4685</td>\n",
       "      <td>spam</td>\n",
       "      <td>Subject: photoshop , windows , office . cheap ...</td>\n",
       "      <td>1</td>\n",
       "      <td>photoshop windows office cheap main trending a...</td>\n",
       "    </tr>\n",
       "    <tr>\n",
       "      <th>4</th>\n",
       "      <td>2030</td>\n",
       "      <td>ham</td>\n",
       "      <td>Subject: re : indian springs\\r\\nthis deal is t...</td>\n",
       "      <td>0</td>\n",
       "      <td>indian springs deal book teco pvr revenue unde...</td>\n",
       "    </tr>\n",
       "  </tbody>\n",
       "</table>\n",
       "</div>"
      ],
      "text/plain": [
       "   Column1 label                                               text  \\\n",
       "0      605   ham  Subject: enron methanol ; meter # : 988291\\r\\n...   \n",
       "1     2349   ham  Subject: hpl nom for january 9 , 2001\\r\\n( see...   \n",
       "2     3624   ham  Subject: neon retreat\\r\\nho ho ho , we ' re ar...   \n",
       "3     4685  spam  Subject: photoshop , windows , office . cheap ...   \n",
       "4     2030   ham  Subject: re : indian springs\\r\\nthis deal is t...   \n",
       "\n",
       "   label_num                                       cleaned_text  \n",
       "0          0  enron methanol meter follow note gave monday p...  \n",
       "1          0  hpl nom january see attached file hplnol xls h...  \n",
       "2          0  neon retreat ho ho ho around wonderful time ye...  \n",
       "3          1  photoshop windows office cheap main trending a...  \n",
       "4          0  indian springs deal book teco pvr revenue unde...  "
      ]
     },
     "execution_count": 59,
     "metadata": {},
     "output_type": "execute_result"
    }
   ],
   "source": [
    "# Main.ipynb fichier principal\n",
    "\n",
    "\n",
    "\n",
    "import pandas as pd\n",
    "from Preprocessing  import clean_text\n",
    "from Model import train_and_evaluate_model, plot_confusion_matrix\n",
    "\n",
    "# Chargement des données\n",
    "data = pd.read_csv('mail.csv', sep=\";\")\n",
    "#Netoyage des données \n",
    "data['cleaned_text'] = data['text'].apply(clean_text)\n",
    "\n",
    "data.head()\n"
   ]
  },
  {
   "cell_type": "markdown",
   "id": "64939893",
   "metadata": {},
   "source": [
    "## Visualisation"
   ]
  },
  {
   "cell_type": "code",
   "execution_count": 60,
   "id": "f426ddb9",
   "metadata": {},
   "outputs": [
    {
     "data": {
      "image/png": "[encoded data removed]",
      "text/plain": [
       "<Figure size 432x288 with 1 Axes>"
      ]
     },
     "metadata": {
      "needs_background": "light"
     },
     "output_type": "display_data"
    },
    {
     "data": {
      "image/png": "[encoded data removed]",
      "text/plain": [
       "<Figure size 720x432 with 1 Axes>"
      ]
     },
     "metadata": {
      "needs_background": "light"
     },
     "output_type": "display_data"
    }
   ],
   "source": [
    "# Visualisation\n",
    "from Visualization import plot_label_distribution, plot_word_frequency\n",
    "\n",
    "plot_label_distribution(data)\n",
    "plot_word_frequency(data)\n",
    "\n"
   ]
  },
  {
   "cell_type": "markdown",
   "id": "b52d7091",
   "metadata": {},
   "source": [
    "## Modélisation"
   ]
  },
  {
   "cell_type": "code",
   "execution_count": 61,
   "id": "dfc945a0",
   "metadata": {},
   "outputs": [
    {
     "name": "stdout",
     "output_type": "stream",
     "text": [
      "Accuracy: 0.9893719806763285\n",
      "              precision    recall  f1-score   support\n",
      "\n",
      "         ham       1.00      0.99      0.99       735\n",
      "        spam       0.97      0.99      0.98       300\n",
      "\n",
      "    accuracy                           0.99      1035\n",
      "   macro avg       0.98      0.99      0.99      1035\n",
      "weighted avg       0.99      0.99      0.99      1035\n",
      "\n"
     ]
    },
    {
     "data": {
      "image/png": "[encoded data removed]",
      "text/plain": [
       "<Figure size 576x432 with 1 Axes>"
      ]
     },
     "metadata": {
      "needs_background": "light"
     },
     "output_type": "display_data"
    }
   ],
   "source": [
    "# Modélisation\n",
    "model, vectorizer, X_test_vectorized, y_test = train_and_evaluate_model(data)\n",
    "plot_confusion_matrix(model, X_test_vectorized, y_test)\n"
   ]
  },
  {
   "cell_type": "markdown",
   "id": "695784c7",
   "metadata": {},
   "source": [
    "**Prédir un nouveau mail**"
   ]
  },
  {
   "cell_type": "code",
   "execution_count": 62,
   "id": "9c18b919",
   "metadata": {},
   "outputs": [
    {
     "name": "stdout",
     "output_type": "stream",
     "text": [
      "Prédiction : spam\n"
     ]
    }
   ],
   "source": [
    "# Nouveau mail à prédire\n",
    "new_mail_text = \"Hello, this is a new email. Please check it out.\"\n",
    "\n",
    "# 1. Prétraitement du nouveau mail\n",
    "cleaned_new_mail = clean_text(new_mail_text)\n",
    "\n",
    "# 2. Vectorisation du texte\n",
    "new_mail_vectorized = vectorizer.transform([cleaned_new_mail])\n",
    "\n",
    "# 3. Prédiction avec le modèle\n",
    "prediction = model.predict(new_mail_vectorized)\n",
    "\n",
    "# Afficher la prédiction\n",
    "print(\"Prédiction :\", prediction[0])\n",
    "\n"
   ]
  },
  {
   "cell_type": "code",
   "execution_count": null,
   "id": "3cc4e425",
   "metadata": {},
   "outputs": [],
   "source": []
  }
 ],
 "metadata": {
  "kernelspec": {
   "display_name": "Python 3",
   "language": "python",
   "name": "python3"
  },
  "language_info": {
   "codemirror_mode": {
    "name": "ipython",
    "version": 3
   },
   "file_extension": ".py",
   "mimetype": "text/x-python",
   "name": "python",
   "nbconvert_exporter": "python",
   "pygments_lexer": "ipython3",
   "version": "3.8.8"
  }
 },
 "nbformat": 4,
 "nbformat_minor": 5
}

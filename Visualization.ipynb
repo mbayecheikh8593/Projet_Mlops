{
 "cells": [
  {
   "cell_type": "code",
   "execution_count": 10,
   "id": "bbc65da4",
   "metadata": {},
   "outputs": [],
   "source": [
    "# Visualization.py\n",
    "\n",
    "import matplotlib.pyplot as plt\n",
    "from collections import Counter\n",
    "\n",
    "def plot_label_distribution(data):\n",
    "    \"\"\"\n",
    "    Affiche un histogramme de la répartition des labels (Spam vs Non-Spam).\n",
    "\n",
    "    Args:\n",
    "    data (pd.DataFrame): Le DataFrame contenant les données.\n",
    "\n",
    "    Returns:\n",
    "    None\n",
    "    \"\"\"\n",
    "    label_counts = data['label'].value_counts()\n",
    "    plt.figure(figsize=(6, 4))\n",
    "    label_counts.plot(kind='bar', color=['blue', 'orange'])\n",
    "    plt.title('Répartition des labels (Spam vs Non-Spam)')\n",
    "    plt.xlabel('Label')\n",
    "    plt.ylabel('Nombre de mails')\n",
    "    plt.xticks(rotation=0)\n",
    "    plt.xticks(ticks=[0, 1], labels=['Non-Spam', 'Spam'])\n",
    "    plt.show()\n",
    "\n",
    "def plot_word_frequency(data, num_words=10):\n",
    "    \"\"\"\n",
    "    Affiche un histogramme des mots les plus fréquents dans le corpus.\n",
    "\n",
    "    Args:\n",
    "    data (pd.DataFrame): Le DataFrame contenant les données.\n",
    "    num_words (int): Le nombre de mots à afficher dans l'histogramme.\n",
    "\n",
    "    Returns:\n",
    "    None\n",
    "    \"\"\"\n",
    "    corpus = ' '.join(data['cleaned_text'])\n",
    "    word_freq = Counter(corpus.split())\n",
    "    common_words = dict(word_freq.most_common(num_words))\n",
    "\n",
    "    plt.figure(figsize=(10, 6))\n",
    "    plt.bar(common_words.keys(), common_words.values(), color='blue')\n",
    "    plt.title('Mots les plus fréquents')\n",
    "    plt.xlabel('Mots')\n",
    "    plt.ylabel('Fréquence')\n",
    "    plt.show()\n"
   ]
  },
  {
   "cell_type": "code",
   "execution_count": null,
   "id": "0306bcb9",
   "metadata": {},
   "outputs": [],
   "source": []
  }
 ],
 "metadata": {
  "kernelspec": {
   "display_name": "Python 3",
   "language": "python",
   "name": "python3"
  },
  "language_info": {
   "codemirror_mode": {
    "name": "ipython",
    "version": 3
   },
   "file_extension": ".py",
   "mimetype": "text/x-python",
   "name": "python",
   "nbconvert_exporter": "python",
   "pygments_lexer": "ipython3",
   "version": "3.8.8"
  }
 },
 "nbformat": 4,
 "nbformat_minor": 5
}

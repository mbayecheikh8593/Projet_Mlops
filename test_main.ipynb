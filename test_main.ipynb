{
 "cells": [
  {
   "cell_type": "code",
   "execution_count": 27,
   "id": "99403326",
   "metadata": {},
   "outputs": [
    {
     "name": "stderr",
     "output_type": "stream",
     "text": [
      ".C:\\ProgramData\\Anaconda3\\lib\\asyncio\\base_events.py:654: ResourceWarning: unclosed event loop <_WindowsSelectorEventLoop running=False closed=False debug=False>\n",
      "  _warn(f\"unclosed event loop {self!r}\", ResourceWarning, source=self)\n",
      "ResourceWarning: Enable tracemalloc to get the object allocation traceback\n",
      "."
     ]
    },
    {
     "name": "stdout",
     "output_type": "stream",
     "text": [
      "Accuracy: 0.9893719806763285\n",
      "              precision    recall  f1-score   support\n",
      "\n",
      "         ham       1.00      0.99      0.99       735\n",
      "        spam       0.97      0.99      0.98       300\n",
      "\n",
      "    accuracy                           0.99      1035\n",
      "   macro avg       0.98      0.99      0.99      1035\n",
      "weighted avg       0.99      0.99      0.99      1035\n",
      "\n"
     ]
    },
    {
     "data": {
      "image/png": "[encoded data removed]",
      "text/plain": [
       "<Figure size 432x288 with 1 Axes>"
      ]
     },
     "metadata": {
      "needs_background": "light"
     },
     "output_type": "display_data"
    },
    {
     "name": "stderr",
     "output_type": "stream",
     "text": [
      "..\n",
      "----------------------------------------------------------------------\n",
      "Ran 4 tests in 807.457s\n",
      "\n",
      "OK\n"
     ]
    }
   ],
   "source": [
    "import unittest\n",
    "import pandas as pd\n",
    "from Preprocessing import clean_text\n",
    "from Visualization import plot_label_distribution, plot_word_frequency\n",
    "from Model import train_and_evaluate_model, plot_confusion_matrix\n",
    "\n",
    "class TestMainFunctions(unittest.TestCase):\n",
    "    def setUp(self):\n",
    "        # Charger les données pour une utilisation dans les tests\n",
    "        self.data = pd.read_csv('mail.csv', sep=\";\")\n",
    "        self.data['cleaned_text'] = self.data['text'].apply(clean_text)\n",
    "\n",
    "    def test_data_loading(self):\n",
    "        # Testez le chargement des données \n",
    "        self.assertIsNotNone(self.data)\n",
    "        \n",
    "\n",
    "\n",
    "    \n",
    "\n",
    "    def test_visualization_functions(self):\n",
    "        # Testez les fonctions de visualisation\n",
    "\n",
    "        # Exemple pour plot_label_distribution\n",
    "        try:\n",
    "            plot_label_distribution(self.data)\n",
    "        except Exception as e:\n",
    "            self.fail(f\"Erreur lors de l'exécution de plot_label_distribution : {e}\")\n",
    "\n",
    "\n",
    "    def test_model_functions(self):\n",
    "        # Testez les fonctions liées au modèle\n",
    "\n",
    "        # Exemple pour train_and_evaluate_model\n",
    "        try:\n",
    "            model, vectorizer, X_test_vectorized, y_test = train_and_evaluate_model(self.data)\n",
    "        except Exception as e:\n",
    "            self.fail(f\"Erreur lors de l'exécution de train_and_evaluate_model : {e}\")\n",
    "\n",
    "if __name__ == '__main__':\n",
    "    unittest.main(argv=[''], exit=False)\n"
   ]
  },
  {
   "cell_type": "code",
   "execution_count": null,
   "id": "812da148",
   "metadata": {},
   "outputs": [],
   "source": [
    "  "
   ]
  }
 ],
 "metadata": {
  "kernelspec": {
   "display_name": "Python 3",
   "language": "python",
   "name": "python3"
  },
  "language_info": {
   "codemirror_mode": {
    "name": "ipython",
    "version": 3
   },
   "file_extension": ".py",
   "mimetype": "text/x-python",
   "name": "python",
   "nbconvert_exporter": "python",
   "pygments_lexer": "ipython3",
   "version": "3.8.8"
  }
 },
 "nbformat": 4,
 "nbformat_minor": 5
}
